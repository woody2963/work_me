{
 "cells": [
  {
   "cell_type": "code",
   "execution_count": 42,
   "metadata": {
    "collapsed": false
   },
   "outputs": [
    {
     "data": {
      "text/plain": [
       "'2018-01-31'"
      ]
     },
     "execution_count": 42,
     "metadata": {},
     "output_type": "execute_result"
    }
   ],
   "source": [
    "import datetime\n",
    "date=datetime.datetime.now()\n",
    "if (date.weekday()==0):\n",
    "    lastdate=date-datetime.timedelta(days=3)\n",
    "elif (date.weekday()==6):\n",
    "    lastdate=date-datetime.timedelta(days=2)\n",
    "else:\n",
    "    lastdate=date-datetime.timedelta(days=1)\n",
    "lastdate.strftime('%Y-%m-%d')"
   ]
  }
 ],
 "metadata": {
  "kernelspec": {
   "display_name": "Python [conda root]",
   "language": "python",
   "name": "conda-root-py"
  }
 },
 "nbformat": 4,
 "nbformat_minor": 1
}

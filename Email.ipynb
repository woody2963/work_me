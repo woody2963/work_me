{
 "cells": [
  {
   "cell_type": "code",
   "execution_count": 3,
   "metadata": {
    "collapsed": false,
    "scrolled": true
   },
   "outputs": [
    {
     "data": {
      "text/plain": [
       "{}"
      ]
     },
     "execution_count": 3,
     "metadata": {},
     "output_type": "execute_result"
    }
   ],
   "source": [
    "import smtplib   #发送不带附件的邮件\n",
    "from email.mime.text import MIMEText\n",
    "content='This is a test mail'\n",
    "title='test'\n",
    "message=MIMEText(content,'plain','utf-8')\n",
    "message['subject']=title\n",
    "mail=smtplib.SMTP('192.168.108.243','25')\n",
    "mail.connect('192.168.108.243','25')\n",
    "mail.login('zhangpu@csc.com.cn','password')\n",
    "mail.sendmail('zhangpu@csc.com.cn','2478459863@qq.com',message.as_string())"
   ]
  },
  {
   "cell_type": "code",
   "execution_count": 1,
   "metadata": {
    "collapsed": false
   },
   "outputs": [
    {
     "data": {
      "text/plain": [
       "{}"
      ]
     },
     "execution_count": 1,
     "metadata": {},
     "output_type": "execute_result"
    }
   ],
   "source": [
    "import smtplib     #发送带附件的邮件\n",
    "from email.mime.text import MIMEText\n",
    "from email.mime.multipart import MIMEMultipart\n",
    "from email.mime.base import MIMEBase\n",
    "\n",
    "message=MIMEMultipart() \n",
    "content='This is a test mail with attachment'\n",
    "message.attach(MIMEText(content,'plain','utf-8'))\n",
    "message['subject']='test'\n",
    "message['from']='zhangpu@csc.com.cn'\n",
    "message['to']='2478459863@qq.com'\n",
    "part=MIMEBase('application','octet-stream')\n",
    "part.set_payload(open(r'C:\\Users\\zhangpu\\Desktop\\123.xlsx','rb').read(),'utf-8')\n",
    "part.add_header('Content-Disposition', 'attachment; filename=\"123.xlsx\"')   #filename要和实际一致，带扩展名\n",
    "message.attach(part)\n",
    "\n",
    "mail=smtplib.SMTP('192.168.108.243','25')\n",
    "mail.connect('192.168.108.243','25')\n",
    "mail.login('zhangpu@csc.com.cn','password')\n",
    "mail.sendmail('zhangpu@csc.com.cn','2478459863@qq.com',message.as_string())"
   ]
  }
 ],
 "metadata": {
  "anaconda-cloud": {},
  "kernelspec": {
   "display_name": "Python [default]",
   "language": "python",
   "name": "python3"
  },
  "language_info": {
   "codemirror_mode": {
    "name": "ipython",
    "version": 3
   },
   "file_extension": ".py",
   "mimetype": "text/x-python",
   "name": "python",
   "nbconvert_exporter": "python",
   "pygments_lexer": "ipython3",
   "version": "3.5.2"
  }
 },
 "nbformat": 4,
 "nbformat_minor": 1
}
